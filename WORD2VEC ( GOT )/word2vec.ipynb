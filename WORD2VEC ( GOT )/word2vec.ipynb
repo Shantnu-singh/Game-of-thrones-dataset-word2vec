{
 "cells": [
  {
   "cell_type": "code",
   "execution_count": 1,
   "metadata": {},
   "outputs": [],
   "source": [
    "import os\n",
    "import gensim\n",
    "from nltk import sent_tokenize\n",
    "from gensim.utils import simple_preprocess\n",
    "from nltk.corpus import stopwords\n"
   ]
  },
  {
   "cell_type": "code",
   "execution_count": 2,
   "metadata": {},
   "outputs": [],
   "source": [
    "# Preprocessing of corpus\n",
    "story =[]\n",
    "stop_words = stopwords.words('english')\n",
    "\n",
    "for filename in os.listdir('text_data'):\n",
    "    f = open(os.path.join('text_data' , filename))\n",
    "    corpus = f.read()\n",
    "    raw_sent = sent_tokenize(corpus)\n",
    "    for sent in raw_sent:\n",
    "        words = simple_preprocess(sent)\n",
    "        filter_words = []\n",
    "        for word in words:\n",
    "            if word not in stop_words:\n",
    "                filter_words.append(word)\n",
    "        story.append(filter_words)\n",
    "\n",
    "\n",
    "\n"
   ]
  },
  {
   "cell_type": "code",
   "execution_count": 3,
   "metadata": {},
   "outputs": [
    {
     "data": {
      "text/plain": [
       "145045"
      ]
     },
     "execution_count": 3,
     "metadata": {},
     "output_type": "execute_result"
    }
   ],
   "source": [
    "len(story)\n",
    "# print(story)"
   ]
  },
  {
   "cell_type": "code",
   "execution_count": 4,
   "metadata": {},
   "outputs": [],
   "source": [
    "# story"
   ]
  },
  {
   "cell_type": "code",
   "execution_count": 5,
   "metadata": {},
   "outputs": [],
   "source": [
    "model = gensim.models.Word2Vec(window= 8 , min_count=2 )"
   ]
  },
  {
   "cell_type": "code",
   "execution_count": 6,
   "metadata": {},
   "outputs": [
    {
     "name": "stdout",
     "output_type": "stream",
     "text": [
      "5\n"
     ]
    }
   ],
   "source": [
    "model.build_vocab(story)\n",
    "print(model.epochs)"
   ]
  },
  {
   "cell_type": "code",
   "execution_count": 7,
   "metadata": {},
   "outputs": [
    {
     "data": {
      "text/plain": [
       "(4398215, 4580880)"
      ]
     },
     "execution_count": 7,
     "metadata": {},
     "output_type": "execute_result"
    }
   ],
   "source": [
    "model.train(story , total_examples= model.corpus_count , epochs= model.epochs)"
   ]
  },
  {
   "cell_type": "code",
   "execution_count": 8,
   "metadata": {},
   "outputs": [
    {
     "data": {
      "text/plain": [
       "[('brandon', 0.8344246745109558),\n",
       " ('winterfell', 0.8158069252967834),\n",
       " ('tully', 0.7916411757469177),\n",
       " ('childless', 0.7859891057014465),\n",
       " ('greyjoy', 0.7859771251678467),\n",
       " ('arryn', 0.7749717235565186),\n",
       " ('murdered', 0.7738673090934753),\n",
       " ('pledging', 0.7709921002388),\n",
       " ('robb', 0.7704394459724426),\n",
       " ('beheaded', 0.7669128775596619)]"
      ]
     },
     "execution_count": 8,
     "metadata": {},
     "output_type": "execute_result"
    }
   ],
   "source": [
    "model.wv.most_similar('stark')"
   ]
  },
  {
   "cell_type": "code",
   "execution_count": 9,
   "metadata": {},
   "outputs": [
    {
     "data": {
      "text/plain": [
       "[('theon', 0.9005098938941956),\n",
       " ('footpad', 0.8975751399993896),\n",
       " ('catelyn', 0.8454926013946533),\n",
       " ('asha', 0.8324933648109436),\n",
       " ('sansa', 0.8261412382125854),\n",
       " ('robb', 0.8052560687065125),\n",
       " ('benjen', 0.8039255738258362),\n",
       " ('alayne', 0.7633188366889954),\n",
       " ('wanly', 0.7569130659103394),\n",
       " ('littlefinger', 0.7540938854217529)]"
      ]
     },
     "execution_count": 9,
     "metadata": {},
     "output_type": "execute_result"
    }
   ],
   "source": [
    "model.wv.most_similar('ned')"
   ]
  },
  {
   "cell_type": "code",
   "execution_count": 10,
   "metadata": {},
   "outputs": [
    {
     "data": {
      "text/plain": [
       "[('aegon', 0.9399510622024536),\n",
       " ('rhaegar', 0.9178811311721802),\n",
       " ('conqueror', 0.9175419807434082),\n",
       " ('elia', 0.8787276148796082),\n",
       " ('dorne', 0.8759307861328125),\n",
       " ('stormborn', 0.8644202947616577),\n",
       " ('born', 0.8642007112503052),\n",
       " ('ii', 0.8596293330192566),\n",
       " ('daeron', 0.8575285077095032),\n",
       " ('aerys', 0.8539872765541077)]"
      ]
     },
     "execution_count": 10,
     "metadata": {},
     "output_type": "execute_result"
    }
   ],
   "source": [
    "model.wv.most_similar('targaryen')"
   ]
  },
  {
   "cell_type": "code",
   "execution_count": 11,
   "metadata": {},
   "outputs": [
    {
     "data": {
      "text/plain": [
       "'arya'"
      ]
     },
     "execution_count": 11,
     "metadata": {},
     "output_type": "execute_result"
    }
   ],
   "source": [
    "model.wv.doesnt_match(['aaegon' , 'arya' , 'daenerys'])"
   ]
  },
  {
   "cell_type": "code",
   "execution_count": 12,
   "metadata": {},
   "outputs": [
    {
     "data": {
      "text/plain": [
       "array([-0.27974823, -0.0751754 , -0.2780945 ,  0.33146974, -0.5493856 ,\n",
       "       -1.0125779 ,  0.19410239,  0.77149653,  0.17918912,  0.45490164,\n",
       "       -0.12890108, -0.31269762,  0.01160115,  0.4539665 , -1.0026888 ,\n",
       "        0.8586505 ,  0.46383005, -0.34926346,  0.00944555,  0.3694549 ,\n",
       "       -0.2889725 ,  0.97127414,  1.01408   , -1.3939499 ,  0.78070796,\n",
       "        0.19612677,  0.06485333, -0.75629556, -0.5290646 ,  0.49243337,\n",
       "        0.337897  ,  0.8847387 , -0.7400337 , -0.04567762,  0.42506027,\n",
       "        0.86158854, -0.26175544, -0.77615434, -0.6023188 , -1.0787584 ,\n",
       "        0.02956956, -0.46346545, -1.1870773 ,  0.98426247,  0.63154995,\n",
       "       -0.29580918, -0.4403077 ,  0.48174822,  0.6669371 , -0.13339366,\n",
       "       -0.06674387,  0.29251298,  0.93153185,  0.19990948, -0.65388626,\n",
       "        1.3552356 , -0.6143179 ,  0.99085194,  0.11600941,  0.8234295 ,\n",
       "        0.33802053,  0.4698744 , -1.0909173 ,  0.6348173 ,  0.12714516,\n",
       "       -0.08883684, -0.92015576,  1.0450518 , -0.20340537,  0.85936445,\n",
       "       -1.2647643 , -0.58670366,  0.20573191, -0.36363813,  0.48658466,\n",
       "        1.0507181 ,  0.5029006 , -0.5515115 , -0.6389106 , -0.04349049,\n",
       "       -0.27118602, -0.10032687, -0.19838254,  0.42951834, -1.3196989 ,\n",
       "       -0.15453848, -0.14041483, -0.46464288,  0.65699124,  0.25868484,\n",
       "        0.7232314 ,  0.38121352, -0.90379196,  1.055208  ,  0.5727036 ,\n",
       "        0.98857176,  0.3319574 , -1.2647755 , -0.0463456 ,  0.1489248 ],\n",
       "      dtype=float32)"
      ]
     },
     "execution_count": 12,
     "metadata": {},
     "output_type": "execute_result"
    }
   ],
   "source": [
    "model.wv['aegon']"
   ]
  },
  {
   "cell_type": "code",
   "execution_count": 13,
   "metadata": {},
   "outputs": [
    {
     "data": {
      "text/plain": [
       "0.70366937"
      ]
     },
     "execution_count": 13,
     "metadata": {},
     "output_type": "execute_result"
    }
   ],
   "source": [
    "model.wv.similarity('arya' , 'ned')"
   ]
  },
  {
   "cell_type": "code",
   "execution_count": 14,
   "metadata": {},
   "outputs": [
    {
     "data": {
      "text/plain": [
       "0.497816"
      ]
     },
     "execution_count": 14,
     "metadata": {},
     "output_type": "execute_result"
    }
   ],
   "source": [
    "model.wv.similarity('tywin' , 'ned')"
   ]
  },
  {
   "cell_type": "code",
   "execution_count": 17,
   "metadata": {},
   "outputs": [
    {
     "data": {
      "text/plain": [
       "17327"
      ]
     },
     "execution_count": 17,
     "metadata": {},
     "output_type": "execute_result"
    }
   ],
   "source": [
    "X = model.wv.get_normed_vectors()\n",
    "Y = model.wv.index_to_key\n",
    "\n",
    "len(X)"
   ]
  },
  {
   "cell_type": "code",
   "execution_count": 18,
   "metadata": {},
   "outputs": [],
   "source": [
    "from sklearn.decomposition import PCA\n",
    "\n",
    "pca = PCA(n_components= 3)"
   ]
  },
  {
   "cell_type": "code",
   "execution_count": 19,
   "metadata": {},
   "outputs": [],
   "source": [
    "X = pca.fit_transform(X)"
   ]
  },
  {
   "cell_type": "code",
   "execution_count": 20,
   "metadata": {},
   "outputs": [
    {
     "data": {
      "text/plain": [
       "(17327, 3)"
      ]
     },
     "execution_count": 20,
     "metadata": {},
     "output_type": "execute_result"
    }
   ],
   "source": [
    "X.shape"
   ]
  },
  {
   "cell_type": "code",
   "execution_count": 21,
   "metadata": {},
   "outputs": [],
   "source": [
    "import plotly.express as px\n",
    "fig = px.scatter_3d(X[:100] , x = 0 , y =1 , z = 2 , color = Y[:100])"
   ]
  },
  {
   "cell_type": "code",
   "execution_count": 22,
   "metadata": {},
   "outputs": [
    {
     "name": "stdout",
     "output_type": "stream",
     "text": [
      "Note: you may need to restart the kernel to use updated packages.\n"
     ]
    },
    {
     "name": "stderr",
     "output_type": "stream",
     "text": [
      "WARNING: You are using pip version 21.1.1; however, version 24.0 is available.\n",
      "You should consider upgrading via the 'c:\\Users\\singh\\AppData\\Local\\Programs\\Python\\Python38\\python.exe -m pip install --upgrade pip' command.\n"
     ]
    }
   ],
   "source": [
    "%pip install nbformat>=4.2.0"
   ]
  },
  {
   "cell_type": "code",
   "execution_count": 23,
   "metadata": {},
   "outputs": [
    {
     "data": {
      "application/vnd.plotly.v1+json": {
       "config": {
        "plotlyServerURL": "https://plot.ly"
       },
       "data": [
        {
         "hovertemplate": "color=said<br>0=%{x}<br>1=%{y}<br>2=%{z}<extra></extra>",
         "legendgroup": "said",
         "marker": {
          "color": "#636efa",
          "symbol": "circle"
         },
         "mode": "markers",
         "name": "said",
         "scene": "scene",
         "showlegend": true,
         "type": "scatter3d",
         "x": [
          -0.47854170203208923
         ],
         "y": [
          0.03554384037852287
         ],
         "z": [
          0.2455676943063736
         ]
        },
        {
         "hovertemplate": "color=lord<br>0=%{x}<br>1=%{y}<br>2=%{z}<extra></extra>",
         "legendgroup": "lord",
         "marker": {
          "color": "#EF553B",
          "symbol": "circle"
         },
         "mode": "markers",
         "name": "lord",
         "scene": "scene",
         "showlegend": true,
         "type": "scatter3d",
         "x": [
          -0.39030104875564575
         ],
         "y": [
          0.5791693925857544
         ],
         "z": [
          0.29388776421546936
         ]
        },
        {
         "hovertemplate": "color=would<br>0=%{x}<br>1=%{y}<br>2=%{z}<extra></extra>",
         "legendgroup": "would",
         "marker": {
          "color": "#00cc96",
          "symbol": "circle"
         },
         "mode": "markers",
         "name": "would",
         "scene": "scene",
         "showlegend": true,
         "type": "scatter3d",
         "x": [
          -0.529220700263977
         ],
         "y": [
          -0.08882615715265274
         ],
         "z": [
          -0.29292118549346924
         ]
        },
        {
         "hovertemplate": "color=one<br>0=%{x}<br>1=%{y}<br>2=%{z}<extra></extra>",
         "legendgroup": "one",
         "marker": {
          "color": "#ab63fa",
          "symbol": "circle"
         },
         "mode": "markers",
         "name": "one",
         "scene": "scene",
         "showlegend": true,
         "type": "scatter3d",
         "x": [
          -0.00016342209710273892
         ],
         "y": [
          0.13102836906909943
         ],
         "z": [
          -0.04671594500541687
         ]
        },
        {
         "hovertemplate": "color=ser<br>0=%{x}<br>1=%{y}<br>2=%{z}<extra></extra>",
         "legendgroup": "ser",
         "marker": {
          "color": "#FFA15A",
          "symbol": "circle"
         },
         "mode": "markers",
         "name": "ser",
         "scene": "scene",
         "showlegend": true,
         "type": "scatter3d",
         "x": [
          -0.27164289355278015
         ],
         "y": [
          0.5519978404045105
         ],
         "z": [
          0.4324415326118469
         ]
        },
        {
         "hovertemplate": "color=could<br>0=%{x}<br>1=%{y}<br>2=%{z}<extra></extra>",
         "legendgroup": "could",
         "marker": {
          "color": "#19d3f3",
          "symbol": "circle"
         },
         "mode": "markers",
         "name": "could",
         "scene": "scene",
         "showlegend": true,
         "type": "scatter3d",
         "x": [
          -0.052076876163482666
         ],
         "y": [
          -0.16983754932880402
         ],
         "z": [
          -0.2522662580013275
         ]
        },
        {
         "hovertemplate": "color=man<br>0=%{x}<br>1=%{y}<br>2=%{z}<extra></extra>",
         "legendgroup": "man",
         "marker": {
          "color": "#FF6692",
          "symbol": "circle"
         },
         "mode": "markers",
         "name": "man",
         "scene": "scene",
         "showlegend": true,
         "type": "scatter3d",
         "x": [
          -0.0633053258061409
         ],
         "y": [
          0.08200356364250183
         ],
         "z": [
          0.17301781475543976
         ]
        },
        {
         "hovertemplate": "color=king<br>0=%{x}<br>1=%{y}<br>2=%{z}<extra></extra>",
         "legendgroup": "king",
         "marker": {
          "color": "#B6E880",
          "symbol": "circle"
         },
         "mode": "markers",
         "name": "king",
         "scene": "scene",
         "showlegend": true,
         "type": "scatter3d",
         "x": [
          -0.3409343957901001
         ],
         "y": [
          0.47898533940315247
         ],
         "z": [
          0.03617672249674797
         ]
        },
        {
         "hovertemplate": "color=men<br>0=%{x}<br>1=%{y}<br>2=%{z}<extra></extra>",
         "legendgroup": "men",
         "marker": {
          "color": "#FF97FF",
          "symbol": "circle"
         },
         "mode": "markers",
         "name": "men",
         "scene": "scene",
         "showlegend": true,
         "type": "scatter3d",
         "x": [
          -0.09257631003856659
         ],
         "y": [
          0.4703998565673828
         ],
         "z": [
          -0.37545615434646606
         ]
        },
        {
         "hovertemplate": "color=back<br>0=%{x}<br>1=%{y}<br>2=%{z}<extra></extra>",
         "legendgroup": "back",
         "marker": {
          "color": "#FECB52",
          "symbol": "circle"
         },
         "mode": "markers",
         "name": "back",
         "scene": "scene",
         "showlegend": true,
         "type": "scatter3d",
         "x": [
          0.23204419016838074
         ],
         "y": [
          0.03584522381424904
         ],
         "z": [
          -0.0036876623053103685
         ]
        },
        {
         "hovertemplate": "color=well<br>0=%{x}<br>1=%{y}<br>2=%{z}<extra></extra>",
         "legendgroup": "well",
         "marker": {
          "color": "#636efa",
          "symbol": "circle"
         },
         "mode": "markers",
         "name": "well",
         "scene": "scene",
         "showlegend": true,
         "type": "scatter3d",
         "x": [
          -0.5021626353263855
         ],
         "y": [
          0.13479501008987427
         ],
         "z": [
          -0.18573834002017975
         ]
        },
        {
         "hovertemplate": "color=like<br>0=%{x}<br>1=%{y}<br>2=%{z}<extra></extra>",
         "legendgroup": "like",
         "marker": {
          "color": "#EF553B",
          "symbol": "circle"
         },
         "mode": "markers",
         "name": "like",
         "scene": "scene",
         "showlegend": true,
         "type": "scatter3d",
         "x": [
          0.2386123538017273
         ],
         "y": [
          -0.1679707020521164
         ],
         "z": [
          -0.11863604187965393
         ]
        },
        {
         "hovertemplate": "color=jon<br>0=%{x}<br>1=%{y}<br>2=%{z}<extra></extra>",
         "legendgroup": "jon",
         "marker": {
          "color": "#00cc96",
          "symbol": "circle"
         },
         "mode": "markers",
         "name": "jon",
         "scene": "scene",
         "showlegend": true,
         "type": "scatter3d",
         "x": [
          -0.04751332849264145
         ],
         "y": [
          -0.01285955123603344
         ],
         "z": [
          0.10836640000343323
         ]
        },
        {
         "hovertemplate": "color=father<br>0=%{x}<br>1=%{y}<br>2=%{z}<extra></extra>",
         "legendgroup": "father",
         "marker": {
          "color": "#ab63fa",
          "symbol": "circle"
         },
         "mode": "markers",
         "name": "father",
         "scene": "scene",
         "showlegend": true,
         "type": "scatter3d",
         "x": [
          -0.6436018347740173
         ],
         "y": [
          0.33369478583335876
         ],
         "z": [
          0.11264996230602264
         ]
        },
        {
         "hovertemplate": "color=old<br>0=%{x}<br>1=%{y}<br>2=%{z}<extra></extra>",
         "legendgroup": "old",
         "marker": {
          "color": "#FFA15A",
          "symbol": "circle"
         },
         "mode": "markers",
         "name": "old",
         "scene": "scene",
         "showlegend": true,
         "type": "scatter3d",
         "x": [
          -0.026532471179962158
         ],
         "y": [
          0.25567513704299927
         ],
         "z": [
          0.031649526208639145
         ]
        },
        {
         "hovertemplate": "color=hand<br>0=%{x}<br>1=%{y}<br>2=%{z}<extra></extra>",
         "legendgroup": "hand",
         "marker": {
          "color": "#19d3f3",
          "symbol": "circle"
         },
         "mode": "markers",
         "name": "hand",
         "scene": "scene",
         "showlegend": true,
         "type": "scatter3d",
         "x": [
          0.11428342759609222
         ],
         "y": [
          0.13012652099132538
         ],
         "z": [
          0.3930628001689911
         ]
        },
        {
         "hovertemplate": "color=even<br>0=%{x}<br>1=%{y}<br>2=%{z}<extra></extra>",
         "legendgroup": "even",
         "marker": {
          "color": "#FF6692",
          "symbol": "circle"
         },
         "mode": "markers",
         "name": "even",
         "scene": "scene",
         "showlegend": true,
         "type": "scatter3d",
         "x": [
          -0.11084873974323273
         ],
         "y": [
          -0.12176878750324249
         ],
         "z": [
          -0.351958692073822
         ]
        },
        {
         "hovertemplate": "color=tyrion<br>0=%{x}<br>1=%{y}<br>2=%{z}<extra></extra>",
         "legendgroup": "tyrion",
         "marker": {
          "color": "#B6E880",
          "symbol": "circle"
         },
         "mode": "markers",
         "name": "tyrion",
         "scene": "scene",
         "showlegend": true,
         "type": "scatter3d",
         "x": [
          -0.08813387900590897
         ],
         "y": [
          -0.1820676475763321
         ],
         "z": [
          0.325913667678833
         ]
        },
        {
         "hovertemplate": "color=never<br>0=%{x}<br>1=%{y}<br>2=%{z}<extra></extra>",
         "legendgroup": "never",
         "marker": {
          "color": "#FF97FF",
          "symbol": "circle"
         },
         "mode": "markers",
         "name": "never",
         "scene": "scene",
         "showlegend": true,
         "type": "scatter3d",
         "x": [
          -0.4456002712249756
         ],
         "y": [
          -0.2118632048368454
         ],
         "z": [
          -0.11435739696025848
         ]
        },
        {
         "hovertemplate": "color=see<br>0=%{x}<br>1=%{y}<br>2=%{z}<extra></extra>",
         "legendgroup": "see",
         "marker": {
          "color": "#FECB52",
          "symbol": "circle"
         },
         "mode": "markers",
         "name": "see",
         "scene": "scene",
         "showlegend": true,
         "type": "scatter3d",
         "x": [
          -0.1101500391960144
         ],
         "y": [
          -0.08399119973182678
         ],
         "z": [
          -0.14999434351921082
         ]
        },
        {
         "hovertemplate": "color=know<br>0=%{x}<br>1=%{y}<br>2=%{z}<extra></extra>",
         "legendgroup": "know",
         "marker": {
          "color": "#636efa",
          "symbol": "circle"
         },
         "mode": "markers",
         "name": "know",
         "scene": "scene",
         "showlegend": true,
         "type": "scatter3d",
         "x": [
          -0.6652607917785645
         ],
         "y": [
          -0.08189458400011063
         ],
         "z": [
          -0.16781005263328552
         ]
        },
        {
         "hovertemplate": "color=made<br>0=%{x}<br>1=%{y}<br>2=%{z}<extra></extra>",
         "legendgroup": "made",
         "marker": {
          "color": "#EF553B",
          "symbol": "circle"
         },
         "mode": "markers",
         "name": "made",
         "scene": "scene",
         "showlegend": true,
         "type": "scatter3d",
         "x": [
          0.06824586540460587
         ],
         "y": [
          -0.130711629986763
         ],
         "z": [
          -0.05014136806130409
         ]
        },
        {
         "hovertemplate": "color=eyes<br>0=%{x}<br>1=%{y}<br>2=%{z}<extra></extra>",
         "legendgroup": "eyes",
         "marker": {
          "color": "#00cc96",
          "symbol": "circle"
         },
         "mode": "markers",
         "name": "eyes",
         "scene": "scene",
         "showlegend": true,
         "type": "scatter3d",
         "x": [
          0.2635400593280792
         ],
         "y": [
          -0.16023941338062286
         ],
         "z": [
          0.2569681704044342
         ]
        },
        {
         "hovertemplate": "color=black<br>0=%{x}<br>1=%{y}<br>2=%{z}<extra></extra>",
         "legendgroup": "black",
         "marker": {
          "color": "#ab63fa",
          "symbol": "circle"
         },
         "mode": "markers",
         "name": "black",
         "scene": "scene",
         "showlegend": true,
         "type": "scatter3d",
         "x": [
          0.4290822446346283
         ],
         "y": [
          0.39848509430885315
         ],
         "z": [
          0.027832524850964546
         ]
        },
        {
         "hovertemplate": "color=told<br>0=%{x}<br>1=%{y}<br>2=%{z}<extra></extra>",
         "legendgroup": "told",
         "marker": {
          "color": "#FFA15A",
          "symbol": "circle"
         },
         "mode": "markers",
         "name": "told",
         "scene": "scene",
         "showlegend": true,
         "type": "scatter3d",
         "x": [
          -0.5013864636421204
         ],
         "y": [
          -0.035775113850831985
         ],
         "z": [
          -0.035382382571697235
         ]
        },
        {
         "hovertemplate": "color=lady<br>0=%{x}<br>1=%{y}<br>2=%{z}<extra></extra>",
         "legendgroup": "lady",
         "marker": {
          "color": "#19d3f3",
          "symbol": "circle"
         },
         "mode": "markers",
         "name": "lady",
         "scene": "scene",
         "showlegend": true,
         "type": "scatter3d",
         "x": [
          -0.43121811747550964
         ],
         "y": [
          0.4059220254421234
         ],
         "z": [
          0.4293360412120819
         ]
        },
        {
         "hovertemplate": "color=thought<br>0=%{x}<br>1=%{y}<br>2=%{z}<extra></extra>",
         "legendgroup": "thought",
         "marker": {
          "color": "#FF6692",
          "symbol": "circle"
         },
         "mode": "markers",
         "name": "thought",
         "scene": "scene",
         "showlegend": true,
         "type": "scatter3d",
         "x": [
          -0.301241010427475
         ],
         "y": [
          -0.21473851799964905
         ],
         "z": [
          -0.05142878368496895
         ]
        },
        {
         "hovertemplate": "color=time<br>0=%{x}<br>1=%{y}<br>2=%{z}<extra></extra>",
         "legendgroup": "time",
         "marker": {
          "color": "#B6E880",
          "symbol": "circle"
         },
         "mode": "markers",
         "name": "time",
         "scene": "scene",
         "showlegend": true,
         "type": "scatter3d",
         "x": [
          -0.04233799874782562
         ],
         "y": [
          -0.057622313499450684
         ],
         "z": [
          -0.1850462108850479
         ]
        },
        {
         "hovertemplate": "color=long<br>0=%{x}<br>1=%{y}<br>2=%{z}<extra></extra>",
         "legendgroup": "long",
         "marker": {
          "color": "#FF97FF",
          "symbol": "circle"
         },
         "mode": "markers",
         "name": "long",
         "scene": "scene",
         "showlegend": true,
         "type": "scatter3d",
         "x": [
          0.26252633333206177
         ],
         "y": [
          0.18647269904613495
         ],
         "z": [
          -0.2698326110839844
         ]
        },
        {
         "hovertemplate": "color=might<br>0=%{x}<br>1=%{y}<br>2=%{z}<extra></extra>",
         "legendgroup": "might",
         "marker": {
          "color": "#FECB52",
          "symbol": "circle"
         },
         "mode": "markers",
         "name": "might",
         "scene": "scene",
         "showlegend": true,
         "type": "scatter3d",
         "x": [
          -0.5574679970741272
         ],
         "y": [
          -0.10301391780376434
         ],
         "z": [
          -0.2635952830314636
         ]
        },
        {
         "hovertemplate": "color=us<br>0=%{x}<br>1=%{y}<br>2=%{z}<extra></extra>",
         "legendgroup": "us",
         "marker": {
          "color": "#636efa",
          "symbol": "circle"
         },
         "mode": "markers",
         "name": "us",
         "scene": "scene",
         "showlegend": true,
         "type": "scatter3d",
         "x": [
          -0.5289193987846375
         ],
         "y": [
          0.12344098836183548
         ],
         "z": [
          -0.3360525667667389
         ]
        },
        {
         "hovertemplate": "color=come<br>0=%{x}<br>1=%{y}<br>2=%{z}<extra></extra>",
         "legendgroup": "come",
         "marker": {
          "color": "#EF553B",
          "symbol": "circle"
         },
         "mode": "markers",
         "name": "come",
         "scene": "scene",
         "showlegend": true,
         "type": "scatter3d",
         "x": [
          -0.37915027141571045
         ],
         "y": [
          0.05326046422123909
         ],
         "z": [
          -0.45758843421936035
         ]
        },
        {
         "hovertemplate": "color=face<br>0=%{x}<br>1=%{y}<br>2=%{z}<extra></extra>",
         "legendgroup": "face",
         "marker": {
          "color": "#00cc96",
          "symbol": "circle"
         },
         "mode": "markers",
         "name": "face",
         "scene": "scene",
         "showlegend": true,
         "type": "scatter3d",
         "x": [
          0.343266099691391
         ],
         "y": [
          -0.24175411462783813
         ],
         "z": [
          0.42668986320495605
         ]
        },
        {
         "hovertemplate": "color=still<br>0=%{x}<br>1=%{y}<br>2=%{z}<extra></extra>",
         "legendgroup": "still",
         "marker": {
          "color": "#ab63fa",
          "symbol": "circle"
         },
         "mode": "markers",
         "name": "still",
         "scene": "scene",
         "showlegend": true,
         "type": "scatter3d",
         "x": [
          0.09532661736011505
         ],
         "y": [
          0.010762451216578484
         ],
         "z": [
          -0.3498847186565399
         ]
        },
        {
         "hovertemplate": "color=head<br>0=%{x}<br>1=%{y}<br>2=%{z}<extra></extra>",
         "legendgroup": "head",
         "marker": {
          "color": "#FFA15A",
          "symbol": "circle"
         },
         "mode": "markers",
         "name": "head",
         "scene": "scene",
         "showlegend": true,
         "type": "scatter3d",
         "x": [
          0.3159622550010681
         ],
         "y": [
          0.025036193430423737
         ],
         "z": [
          0.5165051221847534
         ]
        },
        {
         "hovertemplate": "color=red<br>0=%{x}<br>1=%{y}<br>2=%{z}<extra></extra>",
         "legendgroup": "red",
         "marker": {
          "color": "#19d3f3",
          "symbol": "circle"
         },
         "mode": "markers",
         "name": "red",
         "scene": "scene",
         "showlegend": true,
         "type": "scatter3d",
         "x": [
          0.32123953104019165
         ],
         "y": [
          0.3301122486591339
         ],
         "z": [
          0.22023628652095795
         ]
        },
        {
         "hovertemplate": "color=way<br>0=%{x}<br>1=%{y}<br>2=%{z}<extra></extra>",
         "legendgroup": "way",
         "marker": {
          "color": "#FF6692",
          "symbol": "circle"
         },
         "mode": "markers",
         "name": "way",
         "scene": "scene",
         "showlegend": true,
         "type": "scatter3d",
         "x": [
          0.10549241304397583
         ],
         "y": [
          -0.08237938582897186
         ],
         "z": [
          -0.3366180956363678
         ]
        },
        {
         "hovertemplate": "color=boy<br>0=%{x}<br>1=%{y}<br>2=%{z}<extra></extra>",
         "legendgroup": "boy",
         "marker": {
          "color": "#B6E880",
          "symbol": "circle"
         },
         "mode": "markers",
         "name": "boy",
         "scene": "scene",
         "showlegend": true,
         "type": "scatter3d",
         "x": [
          -0.29801252484321594
         ],
         "y": [
          0.20245911180973053
         ],
         "z": [
          0.3328074812889099
         ]
        },
        {
         "hovertemplate": "color=page<br>0=%{x}<br>1=%{y}<br>2=%{z}<extra></extra>",
         "legendgroup": "page",
         "marker": {
          "color": "#FF97FF",
          "symbol": "circle"
         },
         "mode": "markers",
         "name": "page",
         "scene": "scene",
         "showlegend": true,
         "type": "scatter3d",
         "x": [
          -0.2589070498943329
         ],
         "y": [
          0.15710167586803436
         ],
         "z": [
          0.2949279844760895
         ]
        },
        {
         "hovertemplate": "color=must<br>0=%{x}<br>1=%{y}<br>2=%{z}<extra></extra>",
         "legendgroup": "must",
         "marker": {
          "color": "#FECB52",
          "symbol": "circle"
         },
         "mode": "markers",
         "name": "must",
         "scene": "scene",
         "showlegend": true,
         "type": "scatter3d",
         "x": [
          -0.6059139370918274
         ],
         "y": [
          -0.012098783627152443
         ],
         "z": [
          -0.27033787965774536
         ]
        },
        {
         "hovertemplate": "color=queen<br>0=%{x}<br>1=%{y}<br>2=%{z}<extra></extra>",
         "legendgroup": "queen",
         "marker": {
          "color": "#636efa",
          "symbol": "circle"
         },
         "mode": "markers",
         "name": "queen",
         "scene": "scene",
         "showlegend": true,
         "type": "scatter3d",
         "x": [
          -0.4832071363925934
         ],
         "y": [
          0.3055310547351837
         ],
         "z": [
          0.16117976605892181
         ]
        },
        {
         "hovertemplate": "color=good<br>0=%{x}<br>1=%{y}<br>2=%{z}<extra></extra>",
         "legendgroup": "good",
         "marker": {
          "color": "#EF553B",
          "symbol": "circle"
         },
         "mode": "markers",
         "name": "good",
         "scene": "scene",
         "showlegend": true,
         "type": "scatter3d",
         "x": [
          -0.46943628787994385
         ],
         "y": [
          -0.0904477909207344
         ],
         "z": [
          -0.0985114797949791
         ]
        },
        {
         "hovertemplate": "color=two<br>0=%{x}<br>1=%{y}<br>2=%{z}<extra></extra>",
         "legendgroup": "two",
         "marker": {
          "color": "#00cc96",
          "symbol": "circle"
         },
         "mode": "markers",
         "name": "two",
         "scene": "scene",
         "showlegend": true,
         "type": "scatter3d",
         "x": [
          0.1725172996520996
         ],
         "y": [
          0.5724799633026123
         ],
         "z": [
          -0.22574804723262787
         ]
        },
        {
         "hovertemplate": "color=brother<br>0=%{x}<br>1=%{y}<br>2=%{z}<extra></extra>",
         "legendgroup": "brother",
         "marker": {
          "color": "#ab63fa",
          "symbol": "circle"
         },
         "mode": "markers",
         "name": "brother",
         "scene": "scene",
         "showlegend": true,
         "type": "scatter3d",
         "x": [
          -0.5453412532806396
         ],
         "y": [
          0.4846930205821991
         ],
         "z": [
          0.25951510667800903
         ]
        },
        {
         "hovertemplate": "color=night<br>0=%{x}<br>1=%{y}<br>2=%{z}<extra></extra>",
         "legendgroup": "night",
         "marker": {
          "color": "#FFA15A",
          "symbol": "circle"
         },
         "mode": "markers",
         "name": "night",
         "scene": "scene",
         "showlegend": true,
         "type": "scatter3d",
         "x": [
          0.02368219569325447
         ],
         "y": [
          0.09633155912160873
         ],
         "z": [
          -0.3258477747440338
         ]
        },
        {
         "hovertemplate": "color=little<br>0=%{x}<br>1=%{y}<br>2=%{z}<extra></extra>",
         "legendgroup": "little",
         "marker": {
          "color": "#19d3f3",
          "symbol": "circle"
         },
         "mode": "markers",
         "name": "little",
         "scene": "scene",
         "showlegend": true,
         "type": "scatter3d",
         "x": [
          -0.12269718945026398
         ],
         "y": [
          -0.1352594494819641
         ],
         "z": [
          0.11981941759586334
         ]
        },
        {
         "hovertemplate": "color=took<br>0=%{x}<br>1=%{y}<br>2=%{z}<extra></extra>",
         "legendgroup": "took",
         "marker": {
          "color": "#FF6692",
          "symbol": "circle"
         },
         "mode": "markers",
         "name": "took",
         "scene": "scene",
         "showlegend": true,
         "type": "scatter3d",
         "x": [
          -0.011405414901673794
         ],
         "y": [
          0.22966140508651733
         ],
         "z": [
          0.11345568299293518
         ]
        },
        {
         "hovertemplate": "color=came<br>0=%{x}<br>1=%{y}<br>2=%{z}<extra></extra>",
         "legendgroup": "came",
         "marker": {
          "color": "#B6E880",
          "symbol": "circle"
         },
         "mode": "markers",
         "name": "came",
         "scene": "scene",
         "showlegend": true,
         "type": "scatter3d",
         "x": [
          0.26483801007270813
         ],
         "y": [
          0.16975834965705872
         ],
         "z": [
          -0.3800867199897766
         ]
        },
        {
         "hovertemplate": "color=though<br>0=%{x}<br>1=%{y}<br>2=%{z}<extra></extra>",
         "legendgroup": "though",
         "marker": {
          "color": "#FF97FF",
          "symbol": "circle"
         },
         "mode": "markers",
         "name": "though",
         "scene": "scene",
         "showlegend": true,
         "type": "scatter3d",
         "x": [
          -0.19035044312477112
         ],
         "y": [
          -0.23537017405033112
         ],
         "z": [
          -0.16498184204101562
         ]
        },
        {
         "hovertemplate": "color=say<br>0=%{x}<br>1=%{y}<br>2=%{z}<extra></extra>",
         "legendgroup": "say",
         "marker": {
          "color": "#FECB52",
          "symbol": "circle"
         },
         "mode": "markers",
         "name": "say",
         "scene": "scene",
         "showlegend": true,
         "type": "scatter3d",
         "x": [
          -0.6016248464584351
         ],
         "y": [
          -0.20244745910167694
         ],
         "z": [
          -0.039234526455402374
         ]
        },
        {
         "hovertemplate": "color=three<br>0=%{x}<br>1=%{y}<br>2=%{z}<extra></extra>",
         "legendgroup": "three",
         "marker": {
          "color": "#636efa",
          "symbol": "circle"
         },
         "mode": "markers",
         "name": "three",
         "scene": "scene",
         "showlegend": true,
         "type": "scatter3d",
         "x": [
          0.07455021142959595
         ],
         "y": [
          0.6439252495765686
         ],
         "z": [
          -0.2775498330593109
         ]
        },
        {
         "hovertemplate": "color=away<br>0=%{x}<br>1=%{y}<br>2=%{z}<extra></extra>",
         "legendgroup": "away",
         "marker": {
          "color": "#EF553B",
          "symbol": "circle"
         },
         "mode": "markers",
         "name": "away",
         "scene": "scene",
         "showlegend": true,
         "type": "scatter3d",
         "x": [
          0.25486528873443604
         ],
         "y": [
          -0.158319890499115
         ],
         "z": [
          -0.08040869235992432
         ]
        },
        {
         "hovertemplate": "color=dead<br>0=%{x}<br>1=%{y}<br>2=%{z}<extra></extra>",
         "legendgroup": "dead",
         "marker": {
          "color": "#00cc96",
          "symbol": "circle"
         },
         "mode": "markers",
         "name": "dead",
         "scene": "scene",
         "showlegend": true,
         "type": "scatter3d",
         "x": [
          -0.06164689362049103
         ],
         "y": [
          0.07818789035081863
         ],
         "z": [
          -0.20470038056373596
         ]
        },
        {
         "hovertemplate": "color=son<br>0=%{x}<br>1=%{y}<br>2=%{z}<extra></extra>",
         "legendgroup": "son",
         "marker": {
          "color": "#ab63fa",
          "symbol": "circle"
         },
         "mode": "markers",
         "name": "son",
         "scene": "scene",
         "showlegend": true,
         "type": "scatter3d",
         "x": [
          -0.46154820919036865
         ],
         "y": [
          0.713712215423584
         ],
         "z": [
          0.3992253839969635
         ]
        },
        {
         "hovertemplate": "color=blood<br>0=%{x}<br>1=%{y}<br>2=%{z}<extra></extra>",
         "legendgroup": "blood",
         "marker": {
          "color": "#FFA15A",
          "symbol": "circle"
         },
         "mode": "markers",
         "name": "blood",
         "scene": "scene",
         "showlegend": true,
         "type": "scatter3d",
         "x": [
          0.24437595903873444
         ],
         "y": [
          -0.13578221201896667
         ],
         "z": [
          0.04216180741786957
         ]
        },
        {
         "hovertemplate": "color=take<br>0=%{x}<br>1=%{y}<br>2=%{z}<extra></extra>",
         "legendgroup": "take",
         "marker": {
          "color": "#19d3f3",
          "symbol": "circle"
         },
         "mode": "markers",
         "name": "take",
         "scene": "scene",
         "showlegend": true,
         "type": "scatter3d",
         "x": [
          -0.4166279137134552
         ],
         "y": [
          0.14952686429023743
         ],
         "z": [
          -0.16913437843322754
         ]
        },
        {
         "hovertemplate": "color=go<br>0=%{x}<br>1=%{y}<br>2=%{z}<extra></extra>",
         "legendgroup": "go",
         "marker": {
          "color": "#FF6692",
          "symbol": "circle"
         },
         "mode": "markers",
         "name": "go",
         "scene": "scene",
         "showlegend": true,
         "type": "scatter3d",
         "x": [
          -0.2790611684322357
         ],
         "y": [
          -0.2128659188747406
         ],
         "z": [
          -0.2947990596294403
         ]
        },
        {
         "hovertemplate": "color=half<br>0=%{x}<br>1=%{y}<br>2=%{z}<extra></extra>",
         "legendgroup": "half",
         "marker": {
          "color": "#B6E880",
          "symbol": "circle"
         },
         "mode": "markers",
         "name": "half",
         "scene": "scene",
         "showlegend": true,
         "type": "scatter3d",
         "x": [
          0.20949837565422058
         ],
         "y": [
          0.1758900135755539
         ],
         "z": [
          -0.2809813618659973
         ]
        },
        {
         "hovertemplate": "color=make<br>0=%{x}<br>1=%{y}<br>2=%{z}<extra></extra>",
         "legendgroup": "make",
         "marker": {
          "color": "#FF97FF",
          "symbol": "circle"
         },
         "mode": "markers",
         "name": "make",
         "scene": "scene",
         "showlegend": true,
         "type": "scatter3d",
         "x": [
          -0.42099589109420776
         ],
         "y": [
          -0.22551162540912628
         ],
         "z": [
          -0.22096170485019684
         ]
        },
        {
         "hovertemplate": "color=arya<br>0=%{x}<br>1=%{y}<br>2=%{z}<extra></extra>",
         "legendgroup": "arya",
         "marker": {
          "color": "#FECB52",
          "symbol": "circle"
         },
         "mode": "markers",
         "name": "arya",
         "scene": "scene",
         "showlegend": true,
         "type": "scatter3d",
         "x": [
          0.09729655086994171
         ],
         "y": [
          -0.3925491273403168
         ],
         "z": [
          0.0708475112915039
         ]
        },
        {
         "hovertemplate": "color=saw<br>0=%{x}<br>1=%{y}<br>2=%{z}<extra></extra>",
         "legendgroup": "saw",
         "marker": {
          "color": "#636efa",
          "symbol": "circle"
         },
         "mode": "markers",
         "name": "saw",
         "scene": "scene",
         "showlegend": true,
         "type": "scatter3d",
         "x": [
          0.3015698790550232
         ],
         "y": [
          0.08197849988937378
         ],
         "z": [
          -0.01586649939417839
         ]
        },
        {
         "hovertemplate": "color=day<br>0=%{x}<br>1=%{y}<br>2=%{z}<extra></extra>",
         "legendgroup": "day",
         "marker": {
          "color": "#EF553B",
          "symbol": "circle"
         },
         "mode": "markers",
         "name": "day",
         "scene": "scene",
         "showlegend": true,
         "type": "scatter3d",
         "x": [
          -0.10885743796825409
         ],
         "y": [
          0.16079850494861603
         ],
         "z": [
          -0.37174904346466064
         ]
        },
        {
         "hovertemplate": "color=white<br>0=%{x}<br>1=%{y}<br>2=%{z}<extra></extra>",
         "legendgroup": "white",
         "marker": {
          "color": "#00cc96",
          "symbol": "circle"
         },
         "mode": "markers",
         "name": "white",
         "scene": "scene",
         "showlegend": true,
         "type": "scatter3d",
         "x": [
          0.42031779885292053
         ],
         "y": [
          0.5127410888671875
         ],
         "z": [
          0.27284982800483704
         ]
        },
        {
         "hovertemplate": "color=jaime<br>0=%{x}<br>1=%{y}<br>2=%{z}<extra></extra>",
         "legendgroup": "jaime",
         "marker": {
          "color": "#ab63fa",
          "symbol": "circle"
         },
         "mode": "markers",
         "name": "jaime",
         "scene": "scene",
         "showlegend": true,
         "type": "scatter3d",
         "x": [
          -0.2431032508611679
         ],
         "y": [
          0.10047508776187897
         ],
         "z": [
          0.3402833938598633
         ]
        },
        {
         "hovertemplate": "color=first<br>0=%{x}<br>1=%{y}<br>2=%{z}<extra></extra>",
         "legendgroup": "first",
         "marker": {
          "color": "#FFA15A",
          "symbol": "circle"
         },
         "mode": "markers",
         "name": "first",
         "scene": "scene",
         "showlegend": true,
         "type": "scatter3d",
         "x": [
          -0.19082292914390564
         ],
         "y": [
          0.3613499402999878
         ],
         "z": [
          -0.2437926083803177
         ]
        },
        {
         "hovertemplate": "color=look<br>0=%{x}<br>1=%{y}<br>2=%{z}<extra></extra>",
         "legendgroup": "look",
         "marker": {
          "color": "#19d3f3",
          "symbol": "circle"
         },
         "mode": "markers",
         "name": "look",
         "scene": "scene",
         "showlegend": true,
         "type": "scatter3d",
         "x": [
          -0.00862572155892849
         ],
         "y": [
          -0.22158744931221008
         ],
         "z": [
          0.18458841741085052
         ]
        },
        {
         "hovertemplate": "color=want<br>0=%{x}<br>1=%{y}<br>2=%{z}<extra></extra>",
         "legendgroup": "want",
         "marker": {
          "color": "#FF6692",
          "symbol": "circle"
         },
         "mode": "markers",
         "name": "want",
         "scene": "scene",
         "showlegend": true,
         "type": "scatter3d",
         "x": [
          -0.5438166260719299
         ],
         "y": [
          -0.23844024538993835
         ],
         "z": [
          -0.17904184758663177
         ]
        },
        {
         "hovertemplate": "color=much<br>0=%{x}<br>1=%{y}<br>2=%{z}<extra></extra>",
         "legendgroup": "much",
         "marker": {
          "color": "#B6E880",
          "symbol": "circle"
         },
         "mode": "markers",
         "name": "much",
         "scene": "scene",
         "showlegend": true,
         "type": "scatter3d",
         "x": [
          -0.4830111563205719
         ],
         "y": [
          -0.30529579520225525
         ],
         "z": [
          -0.18447914719581604
         ]
        },
        {
         "hovertemplate": "color=enough<br>0=%{x}<br>1=%{y}<br>2=%{z}<extra></extra>",
         "legendgroup": "enough",
         "marker": {
          "color": "#FF97FF",
          "symbol": "circle"
         },
         "mode": "markers",
         "name": "enough",
         "scene": "scene",
         "showlegend": true,
         "type": "scatter3d",
         "x": [
          -0.196766659617424
         ],
         "y": [
          -0.1368209719657898
         ],
         "z": [
          -0.2851957082748413
         ]
        },
        {
         "hovertemplate": "color=sword<br>0=%{x}<br>1=%{y}<br>2=%{z}<extra></extra>",
         "legendgroup": "sword",
         "marker": {
          "color": "#FECB52",
          "symbol": "circle"
         },
         "mode": "markers",
         "name": "sword",
         "scene": "scene",
         "showlegend": true,
         "type": "scatter3d",
         "x": [
          0.1128472089767456
         ],
         "y": [
          0.1557117998600006
         ],
         "z": [
          0.25498512387275696
         ]
        },
        {
         "hovertemplate": "color=tell<br>0=%{x}<br>1=%{y}<br>2=%{z}<extra></extra>",
         "legendgroup": "tell",
         "marker": {
          "color": "#636efa",
          "symbol": "circle"
         },
         "mode": "markers",
         "name": "tell",
         "scene": "scene",
         "showlegend": true,
         "type": "scatter3d",
         "x": [
          -0.6582316160202026
         ],
         "y": [
          -0.1993851214647293
         ],
         "z": [
          -0.11783353984355927
         ]
        },
        {
         "hovertemplate": "color=girl<br>0=%{x}<br>1=%{y}<br>2=%{z}<extra></extra>",
         "legendgroup": "girl",
         "marker": {
          "color": "#EF553B",
          "symbol": "circle"
         },
         "mode": "markers",
         "name": "girl",
         "scene": "scene",
         "showlegend": true,
         "type": "scatter3d",
         "x": [
          -0.2521894872188568
         ],
         "y": [
          0.010836117900907993
         ],
         "z": [
          0.3122316896915436
         ]
        },
        {
         "hovertemplate": "color=bran<br>0=%{x}<br>1=%{y}<br>2=%{z}<extra></extra>",
         "legendgroup": "bran",
         "marker": {
          "color": "#00cc96",
          "symbol": "circle"
         },
         "mode": "markers",
         "name": "bran",
         "scene": "scene",
         "showlegend": true,
         "type": "scatter3d",
         "x": [
          0.027528448030352592
         ],
         "y": [
          -0.3653717041015625
         ],
         "z": [
          -0.0403454415500164
         ]
        },
        {
         "hovertemplate": "color=great<br>0=%{x}<br>1=%{y}<br>2=%{z}<extra></extra>",
         "legendgroup": "great",
         "marker": {
          "color": "#ab63fa",
          "symbol": "circle"
         },
         "mode": "markers",
         "name": "great",
         "scene": "scene",
         "showlegend": true,
         "type": "scatter3d",
         "x": [
          0.13632075488567352
         ],
         "y": [
          0.73845374584198
         ],
         "z": [
          -0.2649197280406952
         ]
        },
        {
         "hovertemplate": "color=looked<br>0=%{x}<br>1=%{y}<br>2=%{z}<extra></extra>",
         "legendgroup": "looked",
         "marker": {
          "color": "#FFA15A",
          "symbol": "circle"
         },
         "mode": "markers",
         "name": "looked",
         "scene": "scene",
         "showlegend": true,
         "type": "scatter3d",
         "x": [
          0.18526171147823334
         ],
         "y": [
          -0.055981967598199844
         ],
         "z": [
          0.2891053557395935
         ]
        },
        {
         "hovertemplate": "color=left<br>0=%{x}<br>1=%{y}<br>2=%{z}<extra></extra>",
         "legendgroup": "left",
         "marker": {
          "color": "#19d3f3",
          "symbol": "circle"
         },
         "mode": "markers",
         "name": "left",
         "scene": "scene",
         "showlegend": true,
         "type": "scatter3d",
         "x": [
          0.185574471950531
         ],
         "y": [
          0.2721654176712036
         ],
         "z": [
          -0.049836937338113785
         ]
        },
        {
         "hovertemplate": "color=knew<br>0=%{x}<br>1=%{y}<br>2=%{z}<extra></extra>",
         "legendgroup": "knew",
         "marker": {
          "color": "#FF6692",
          "symbol": "circle"
         },
         "mode": "markers",
         "name": "knew",
         "scene": "scene",
         "showlegend": true,
         "type": "scatter3d",
         "x": [
          -0.3562418520450592
         ],
         "y": [
          -0.19618947803974152
         ],
         "z": [
          -0.2553187906742096
         ]
        },
        {
         "hovertemplate": "color=asked<br>0=%{x}<br>1=%{y}<br>2=%{z}<extra></extra>",
         "legendgroup": "asked",
         "marker": {
          "color": "#B6E880",
          "symbol": "circle"
         },
         "mode": "markers",
         "name": "asked",
         "scene": "scene",
         "showlegend": true,
         "type": "scatter3d",
         "x": [
          -0.5006115436553955
         ],
         "y": [
          0.06510410457849503
         ],
         "z": [
          0.3159184157848358
         ]
        },
        {
         "hovertemplate": "color=gave<br>0=%{x}<br>1=%{y}<br>2=%{z}<extra></extra>",
         "legendgroup": "gave",
         "marker": {
          "color": "#FF97FF",
          "symbol": "circle"
         },
         "mode": "markers",
         "name": "gave",
         "scene": "scene",
         "showlegend": true,
         "type": "scatter3d",
         "x": [
          -0.07012397795915604
         ],
         "y": [
          -0.13535436987876892
         ],
         "z": [
          0.5309582948684692
         ]
        },
        {
         "hovertemplate": "color=maester<br>0=%{x}<br>1=%{y}<br>2=%{z}<extra></extra>",
         "legendgroup": "maester",
         "marker": {
          "color": "#FECB52",
          "symbol": "circle"
         },
         "mode": "markers",
         "name": "maester",
         "scene": "scene",
         "showlegend": true,
         "type": "scatter3d",
         "x": [
          -0.1562788337469101
         ],
         "y": [
          0.25566136837005615
         ],
         "z": [
          0.25951576232910156
         ]
        },
        {
         "hovertemplate": "color=called<br>0=%{x}<br>1=%{y}<br>2=%{z}<extra></extra>",
         "legendgroup": "called",
         "marker": {
          "color": "#636efa",
          "symbol": "circle"
         },
         "mode": "markers",
         "name": "called",
         "scene": "scene",
         "showlegend": true,
         "type": "scatter3d",
         "x": [
          -0.22636465728282928
         ],
         "y": [
          0.6971012353897095
         ],
         "z": [
          0.3488641083240509
         ]
        },
        {
         "hovertemplate": "color=wall<br>0=%{x}<br>1=%{y}<br>2=%{z}<extra></extra>",
         "legendgroup": "wall",
         "marker": {
          "color": "#EF553B",
          "symbol": "circle"
         },
         "mode": "markers",
         "name": "wall",
         "scene": "scene",
         "showlegend": true,
         "type": "scatter3d",
         "x": [
          0.23154482245445251
         ],
         "y": [
          0.22721678018569946
         ],
         "z": [
          -0.5401259064674377
         ]
        },
        {
         "hovertemplate": "color=every<br>0=%{x}<br>1=%{y}<br>2=%{z}<extra></extra>",
         "legendgroup": "every",
         "marker": {
          "color": "#00cc96",
          "symbol": "circle"
         },
         "mode": "markers",
         "name": "every",
         "scene": "scene",
         "showlegend": true,
         "type": "scatter3d",
         "x": [
          0.11619123071432114
         ],
         "y": [
          0.17044594883918762
         ],
         "z": [
          -0.356011301279068
         ]
        },
        {
         "hovertemplate": "color=heard<br>0=%{x}<br>1=%{y}<br>2=%{z}<extra></extra>",
         "legendgroup": "heard",
         "marker": {
          "color": "#ab63fa",
          "symbol": "circle"
         },
         "mode": "markers",
         "name": "heard",
         "scene": "scene",
         "showlegend": true,
         "type": "scatter3d",
         "x": [
          -0.029516911134123802
         ],
         "y": [
          -0.1588449776172638
         ],
         "z": [
          -0.138941690325737
         ]
        },
        {
         "hovertemplate": "color=sansa<br>0=%{x}<br>1=%{y}<br>2=%{z}<extra></extra>",
         "legendgroup": "sansa",
         "marker": {
          "color": "#FFA15A",
          "symbol": "circle"
         },
         "mode": "markers",
         "name": "sansa",
         "scene": "scene",
         "showlegend": true,
         "type": "scatter3d",
         "x": [
          -0.19450066983699799
         ],
         "y": [
          -0.2670994997024536
         ],
         "z": [
          0.35805198550224304
         ]
        },
        {
         "hovertemplate": "color=let<br>0=%{x}<br>1=%{y}<br>2=%{z}<extra></extra>",
         "legendgroup": "let",
         "marker": {
          "color": "#19d3f3",
          "symbol": "circle"
         },
         "mode": "markers",
         "name": "let",
         "scene": "scene",
         "showlegend": true,
         "type": "scatter3d",
         "x": [
          -0.24794113636016846
         ],
         "y": [
          -0.2428014725446701
         ],
         "z": [
          -0.12698373198509216
         ]
        },
        {
         "hovertemplate": "color=yet<br>0=%{x}<br>1=%{y}<br>2=%{z}<extra></extra>",
         "legendgroup": "yet",
         "marker": {
          "color": "#FF6692",
          "symbol": "circle"
         },
         "mode": "markers",
         "name": "yet",
         "scene": "scene",
         "showlegend": true,
         "type": "scatter3d",
         "x": [
          -0.2897273898124695
         ],
         "y": [
          -0.07201098650693893
         ],
         "z": [
          -0.3375968635082245
         ]
        },
        {
         "hovertemplate": "color=went<br>0=%{x}<br>1=%{y}<br>2=%{z}<extra></extra>",
         "legendgroup": "went",
         "marker": {
          "color": "#B6E880",
          "symbol": "circle"
         },
         "mode": "markers",
         "name": "went",
         "scene": "scene",
         "showlegend": true,
         "type": "scatter3d",
         "x": [
          0.34363853931427
         ],
         "y": [
          0.01969342678785324
         ],
         "z": [
          -0.12829086184501648
         ]
        },
        {
         "hovertemplate": "color=turned<br>0=%{x}<br>1=%{y}<br>2=%{z}<extra></extra>",
         "legendgroup": "turned",
         "marker": {
          "color": "#FF97FF",
          "symbol": "circle"
         },
         "mode": "markers",
         "name": "turned",
         "scene": "scene",
         "showlegend": true,
         "type": "scatter3d",
         "x": [
          0.24378229677677155
         ],
         "y": [
          0.12431854754686356
         ],
         "z": [
          0.22400832176208496
         ]
        },
        {
         "hovertemplate": "color=dany<br>0=%{x}<br>1=%{y}<br>2=%{z}<extra></extra>",
         "legendgroup": "dany",
         "marker": {
          "color": "#FECB52",
          "symbol": "circle"
         },
         "mode": "markers",
         "name": "dany",
         "scene": "scene",
         "showlegend": true,
         "type": "scatter3d",
         "x": [
          0.08564775437116623
         ],
         "y": [
          -0.22835542261600494
         ],
         "z": [
          -0.019915204495191574
         ]
        },
        {
         "hovertemplate": "color=behind<br>0=%{x}<br>1=%{y}<br>2=%{z}<extra></extra>",
         "legendgroup": "behind",
         "marker": {
          "color": "#636efa",
          "symbol": "circle"
         },
         "mode": "markers",
         "name": "behind",
         "scene": "scene",
         "showlegend": true,
         "type": "scatter3d",
         "x": [
          0.5436945557594299
         ],
         "y": [
          0.37448015809059143
         ],
         "z": [
          -0.15461699664592743
         ]
        },
        {
         "hovertemplate": "color=need<br>0=%{x}<br>1=%{y}<br>2=%{z}<extra></extra>",
         "legendgroup": "need",
         "marker": {
          "color": "#EF553B",
          "symbol": "circle"
         },
         "mode": "markers",
         "name": "need",
         "scene": "scene",
         "showlegend": true,
         "type": "scatter3d",
         "x": [
          -0.46268078684806824
         ],
         "y": [
          -0.06285075098276138
         ],
         "z": [
          -0.35896673798561096
         ]
        },
        {
         "hovertemplate": "color=around<br>0=%{x}<br>1=%{y}<br>2=%{z}<extra></extra>",
         "legendgroup": "around",
         "marker": {
          "color": "#00cc96",
          "symbol": "circle"
         },
         "mode": "markers",
         "name": "around",
         "scene": "scene",
         "showlegend": true,
         "type": "scatter3d",
         "x": [
          0.7361606955528259
         ],
         "y": [
          0.0925285816192627
         ],
         "z": [
          -0.08078784495592117
         ]
        },
        {
         "hovertemplate": "color=woman<br>0=%{x}<br>1=%{y}<br>2=%{z}<extra></extra>",
         "legendgroup": "woman",
         "marker": {
          "color": "#ab63fa",
          "symbol": "circle"
         },
         "mode": "markers",
         "name": "woman",
         "scene": "scene",
         "showlegend": true,
         "type": "scatter3d",
         "x": [
          -0.08033148944377899
         ],
         "y": [
          -0.1043013483285904
         ],
         "z": [
          0.2834598422050476
         ]
        },
        {
         "hovertemplate": "color=another<br>0=%{x}<br>1=%{y}<br>2=%{z}<extra></extra>",
         "legendgroup": "another",
         "marker": {
          "color": "#FFA15A",
          "symbol": "circle"
         },
         "mode": "markers",
         "name": "another",
         "scene": "scene",
         "showlegend": true,
         "type": "scatter3d",
         "x": [
          0.0012482193997129798
         ],
         "y": [
          0.028035471215844154
         ],
         "z": [
          -0.14354084432125092
         ]
        },
        {
         "hovertemplate": "color=snow<br>0=%{x}<br>1=%{y}<br>2=%{z}<extra></extra>",
         "legendgroup": "snow",
         "marker": {
          "color": "#19d3f3",
          "symbol": "circle"
         },
         "mode": "markers",
         "name": "snow",
         "scene": "scene",
         "showlegend": true,
         "type": "scatter3d",
         "x": [
          0.26096752285957336
         ],
         "y": [
          -0.005478557199239731
         ],
         "z": [
          -0.10183185338973999
         ]
        },
        {
         "hovertemplate": "color=beneath<br>0=%{x}<br>1=%{y}<br>2=%{z}<extra></extra>",
         "legendgroup": "beneath",
         "marker": {
          "color": "#FF6692",
          "symbol": "circle"
         },
         "mode": "markers",
         "name": "beneath",
         "scene": "scene",
         "showlegend": true,
         "type": "scatter3d",
         "x": [
          0.7404025793075562
         ],
         "y": [
          0.3161969780921936
         ],
         "z": [
          -0.16750840842723846
         ]
        },
        {
         "hovertemplate": "color=across<br>0=%{x}<br>1=%{y}<br>2=%{z}<extra></extra>",
         "legendgroup": "across",
         "marker": {
          "color": "#B6E880",
          "symbol": "circle"
         },
         "mode": "markers",
         "name": "across",
         "scene": "scene",
         "showlegend": true,
         "type": "scatter3d",
         "x": [
          0.6689733266830444
         ],
         "y": [
          0.28100889921188354
         ],
         "z": [
          -0.10642378032207489
         ]
        },
        {
         "hovertemplate": "color=knight<br>0=%{x}<br>1=%{y}<br>2=%{z}<extra></extra>",
         "legendgroup": "knight",
         "marker": {
          "color": "#FF97FF",
          "symbol": "circle"
         },
         "mode": "markers",
         "name": "knight",
         "scene": "scene",
         "showlegend": true,
         "type": "scatter3d",
         "x": [
          -0.2479620724916458
         ],
         "y": [
          0.5155635476112366
         ],
         "z": [
          0.49687570333480835
         ]
        },
        {
         "hovertemplate": "color=keep<br>0=%{x}<br>1=%{y}<br>2=%{z}<extra></extra>",
         "legendgroup": "keep",
         "marker": {
          "color": "#FECB52",
          "symbol": "circle"
         },
         "mode": "markers",
         "name": "keep",
         "scene": "scene",
         "showlegend": true,
         "type": "scatter3d",
         "x": [
          -0.08244013786315918
         ],
         "y": [
          0.0982348695397377
         ],
         "z": [
          -0.3286544680595398
         ]
        }
       ],
       "layout": {
        "legend": {
         "title": {
          "text": "color"
         },
         "tracegroupgap": 0
        },
        "margin": {
         "t": 60
        },
        "scene": {
         "domain": {
          "x": [
           0,
           1
          ],
          "y": [
           0,
           1
          ]
         },
         "xaxis": {
          "title": {
           "text": "0"
          }
         },
         "yaxis": {
          "title": {
           "text": "1"
          }
         },
         "zaxis": {
          "title": {
           "text": "2"
          }
         }
        },
        "template": {
         "data": {
          "bar": [
           {
            "error_x": {
             "color": "#2a3f5f"
            },
            "error_y": {
             "color": "#2a3f5f"
            },
            "marker": {
             "line": {
              "color": "#E5ECF6",
              "width": 0.5
             },
             "pattern": {
              "fillmode": "overlay",
              "size": 10,
              "solidity": 0.2
             }
            },
            "type": "bar"
           }
          ],
          "barpolar": [
           {
            "marker": {
             "line": {
              "color": "#E5ECF6",
              "width": 0.5
             },
             "pattern": {
              "fillmode": "overlay",
              "size": 10,
              "solidity": 0.2
             }
            },
            "type": "barpolar"
           }
          ],
          "carpet": [
           {
            "aaxis": {
             "endlinecolor": "#2a3f5f",
             "gridcolor": "white",
             "linecolor": "white",
             "minorgridcolor": "white",
             "startlinecolor": "#2a3f5f"
            },
            "baxis": {
             "endlinecolor": "#2a3f5f",
             "gridcolor": "white",
             "linecolor": "white",
             "minorgridcolor": "white",
             "startlinecolor": "#2a3f5f"
            },
            "type": "carpet"
           }
          ],
          "choropleth": [
           {
            "colorbar": {
             "outlinewidth": 0,
             "ticks": ""
            },
            "type": "choropleth"
           }
          ],
          "contour": [
           {
            "colorbar": {
             "outlinewidth": 0,
             "ticks": ""
            },
            "colorscale": [
             [
              0,
              "#0d0887"
             ],
             [
              0.1111111111111111,
              "#46039f"
             ],
             [
              0.2222222222222222,
              "#7201a8"
             ],
             [
              0.3333333333333333,
              "#9c179e"
             ],
             [
              0.4444444444444444,
              "#bd3786"
             ],
             [
              0.5555555555555556,
              "#d8576b"
             ],
             [
              0.6666666666666666,
              "#ed7953"
             ],
             [
              0.7777777777777778,
              "#fb9f3a"
             ],
             [
              0.8888888888888888,
              "#fdca26"
             ],
             [
              1,
              "#f0f921"
             ]
            ],
            "type": "contour"
           }
          ],
          "contourcarpet": [
           {
            "colorbar": {
             "outlinewidth": 0,
             "ticks": ""
            },
            "type": "contourcarpet"
           }
          ],
          "heatmap": [
           {
            "colorbar": {
             "outlinewidth": 0,
             "ticks": ""
            },
            "colorscale": [
             [
              0,
              "#0d0887"
             ],
             [
              0.1111111111111111,
              "#46039f"
             ],
             [
              0.2222222222222222,
              "#7201a8"
             ],
             [
              0.3333333333333333,
              "#9c179e"
             ],
             [
              0.4444444444444444,
              "#bd3786"
             ],
             [
              0.5555555555555556,
              "#d8576b"
             ],
             [
              0.6666666666666666,
              "#ed7953"
             ],
             [
              0.7777777777777778,
              "#fb9f3a"
             ],
             [
              0.8888888888888888,
              "#fdca26"
             ],
             [
              1,
              "#f0f921"
             ]
            ],
            "type": "heatmap"
           }
          ],
          "heatmapgl": [
           {
            "colorbar": {
             "outlinewidth": 0,
             "ticks": ""
            },
            "colorscale": [
             [
              0,
              "#0d0887"
             ],
             [
              0.1111111111111111,
              "#46039f"
             ],
             [
              0.2222222222222222,
              "#7201a8"
             ],
             [
              0.3333333333333333,
              "#9c179e"
             ],
             [
              0.4444444444444444,
              "#bd3786"
             ],
             [
              0.5555555555555556,
              "#d8576b"
             ],
             [
              0.6666666666666666,
              "#ed7953"
             ],
             [
              0.7777777777777778,
              "#fb9f3a"
             ],
             [
              0.8888888888888888,
              "#fdca26"
             ],
             [
              1,
              "#f0f921"
             ]
            ],
            "type": "heatmapgl"
           }
          ],
          "histogram": [
           {
            "marker": {
             "pattern": {
              "fillmode": "overlay",
              "size": 10,
              "solidity": 0.2
             }
            },
            "type": "histogram"
           }
          ],
          "histogram2d": [
           {
            "colorbar": {
             "outlinewidth": 0,
             "ticks": ""
            },
            "colorscale": [
             [
              0,
              "#0d0887"
             ],
             [
              0.1111111111111111,
              "#46039f"
             ],
             [
              0.2222222222222222,
              "#7201a8"
             ],
             [
              0.3333333333333333,
              "#9c179e"
             ],
             [
              0.4444444444444444,
              "#bd3786"
             ],
             [
              0.5555555555555556,
              "#d8576b"
             ],
             [
              0.6666666666666666,
              "#ed7953"
             ],
             [
              0.7777777777777778,
              "#fb9f3a"
             ],
             [
              0.8888888888888888,
              "#fdca26"
             ],
             [
              1,
              "#f0f921"
             ]
            ],
            "type": "histogram2d"
           }
          ],
          "histogram2dcontour": [
           {
            "colorbar": {
             "outlinewidth": 0,
             "ticks": ""
            },
            "colorscale": [
             [
              0,
              "#0d0887"
             ],
             [
              0.1111111111111111,
              "#46039f"
             ],
             [
              0.2222222222222222,
              "#7201a8"
             ],
             [
              0.3333333333333333,
              "#9c179e"
             ],
             [
              0.4444444444444444,
              "#bd3786"
             ],
             [
              0.5555555555555556,
              "#d8576b"
             ],
             [
              0.6666666666666666,
              "#ed7953"
             ],
             [
              0.7777777777777778,
              "#fb9f3a"
             ],
             [
              0.8888888888888888,
              "#fdca26"
             ],
             [
              1,
              "#f0f921"
             ]
            ],
            "type": "histogram2dcontour"
           }
          ],
          "mesh3d": [
           {
            "colorbar": {
             "outlinewidth": 0,
             "ticks": ""
            },
            "type": "mesh3d"
           }
          ],
          "parcoords": [
           {
            "line": {
             "colorbar": {
              "outlinewidth": 0,
              "ticks": ""
             }
            },
            "type": "parcoords"
           }
          ],
          "pie": [
           {
            "automargin": true,
            "type": "pie"
           }
          ],
          "scatter": [
           {
            "fillpattern": {
             "fillmode": "overlay",
             "size": 10,
             "solidity": 0.2
            },
            "type": "scatter"
           }
          ],
          "scatter3d": [
           {
            "line": {
             "colorbar": {
              "outlinewidth": 0,
              "ticks": ""
             }
            },
            "marker": {
             "colorbar": {
              "outlinewidth": 0,
              "ticks": ""
             }
            },
            "type": "scatter3d"
           }
          ],
          "scattercarpet": [
           {
            "marker": {
             "colorbar": {
              "outlinewidth": 0,
              "ticks": ""
             }
            },
            "type": "scattercarpet"
           }
          ],
          "scattergeo": [
           {
            "marker": {
             "colorbar": {
              "outlinewidth": 0,
              "ticks": ""
             }
            },
            "type": "scattergeo"
           }
          ],
          "scattergl": [
           {
            "marker": {
             "colorbar": {
              "outlinewidth": 0,
              "ticks": ""
             }
            },
            "type": "scattergl"
           }
          ],
          "scattermapbox": [
           {
            "marker": {
             "colorbar": {
              "outlinewidth": 0,
              "ticks": ""
             }
            },
            "type": "scattermapbox"
           }
          ],
          "scatterpolar": [
           {
            "marker": {
             "colorbar": {
              "outlinewidth": 0,
              "ticks": ""
             }
            },
            "type": "scatterpolar"
           }
          ],
          "scatterpolargl": [
           {
            "marker": {
             "colorbar": {
              "outlinewidth": 0,
              "ticks": ""
             }
            },
            "type": "scatterpolargl"
           }
          ],
          "scatterternary": [
           {
            "marker": {
             "colorbar": {
              "outlinewidth": 0,
              "ticks": ""
             }
            },
            "type": "scatterternary"
           }
          ],
          "surface": [
           {
            "colorbar": {
             "outlinewidth": 0,
             "ticks": ""
            },
            "colorscale": [
             [
              0,
              "#0d0887"
             ],
             [
              0.1111111111111111,
              "#46039f"
             ],
             [
              0.2222222222222222,
              "#7201a8"
             ],
             [
              0.3333333333333333,
              "#9c179e"
             ],
             [
              0.4444444444444444,
              "#bd3786"
             ],
             [
              0.5555555555555556,
              "#d8576b"
             ],
             [
              0.6666666666666666,
              "#ed7953"
             ],
             [
              0.7777777777777778,
              "#fb9f3a"
             ],
             [
              0.8888888888888888,
              "#fdca26"
             ],
             [
              1,
              "#f0f921"
             ]
            ],
            "type": "surface"
           }
          ],
          "table": [
           {
            "cells": {
             "fill": {
              "color": "#EBF0F8"
             },
             "line": {
              "color": "white"
             }
            },
            "header": {
             "fill": {
              "color": "#C8D4E3"
             },
             "line": {
              "color": "white"
             }
            },
            "type": "table"
           }
          ]
         },
         "layout": {
          "annotationdefaults": {
           "arrowcolor": "#2a3f5f",
           "arrowhead": 0,
           "arrowwidth": 1
          },
          "autotypenumbers": "strict",
          "coloraxis": {
           "colorbar": {
            "outlinewidth": 0,
            "ticks": ""
           }
          },
          "colorscale": {
           "diverging": [
            [
             0,
             "#8e0152"
            ],
            [
             0.1,
             "#c51b7d"
            ],
            [
             0.2,
             "#de77ae"
            ],
            [
             0.3,
             "#f1b6da"
            ],
            [
             0.4,
             "#fde0ef"
            ],
            [
             0.5,
             "#f7f7f7"
            ],
            [
             0.6,
             "#e6f5d0"
            ],
            [
             0.7,
             "#b8e186"
            ],
            [
             0.8,
             "#7fbc41"
            ],
            [
             0.9,
             "#4d9221"
            ],
            [
             1,
             "#276419"
            ]
           ],
           "sequential": [
            [
             0,
             "#0d0887"
            ],
            [
             0.1111111111111111,
             "#46039f"
            ],
            [
             0.2222222222222222,
             "#7201a8"
            ],
            [
             0.3333333333333333,
             "#9c179e"
            ],
            [
             0.4444444444444444,
             "#bd3786"
            ],
            [
             0.5555555555555556,
             "#d8576b"
            ],
            [
             0.6666666666666666,
             "#ed7953"
            ],
            [
             0.7777777777777778,
             "#fb9f3a"
            ],
            [
             0.8888888888888888,
             "#fdca26"
            ],
            [
             1,
             "#f0f921"
            ]
           ],
           "sequentialminus": [
            [
             0,
             "#0d0887"
            ],
            [
             0.1111111111111111,
             "#46039f"
            ],
            [
             0.2222222222222222,
             "#7201a8"
            ],
            [
             0.3333333333333333,
             "#9c179e"
            ],
            [
             0.4444444444444444,
             "#bd3786"
            ],
            [
             0.5555555555555556,
             "#d8576b"
            ],
            [
             0.6666666666666666,
             "#ed7953"
            ],
            [
             0.7777777777777778,
             "#fb9f3a"
            ],
            [
             0.8888888888888888,
             "#fdca26"
            ],
            [
             1,
             "#f0f921"
            ]
           ]
          },
          "colorway": [
           "#636efa",
           "#EF553B",
           "#00cc96",
           "#ab63fa",
           "#FFA15A",
           "#19d3f3",
           "#FF6692",
           "#B6E880",
           "#FF97FF",
           "#FECB52"
          ],
          "font": {
           "color": "#2a3f5f"
          },
          "geo": {
           "bgcolor": "white",
           "lakecolor": "white",
           "landcolor": "#E5ECF6",
           "showlakes": true,
           "showland": true,
           "subunitcolor": "white"
          },
          "hoverlabel": {
           "align": "left"
          },
          "hovermode": "closest",
          "mapbox": {
           "style": "light"
          },
          "paper_bgcolor": "white",
          "plot_bgcolor": "#E5ECF6",
          "polar": {
           "angularaxis": {
            "gridcolor": "white",
            "linecolor": "white",
            "ticks": ""
           },
           "bgcolor": "#E5ECF6",
           "radialaxis": {
            "gridcolor": "white",
            "linecolor": "white",
            "ticks": ""
           }
          },
          "scene": {
           "xaxis": {
            "backgroundcolor": "#E5ECF6",
            "gridcolor": "white",
            "gridwidth": 2,
            "linecolor": "white",
            "showbackground": true,
            "ticks": "",
            "zerolinecolor": "white"
           },
           "yaxis": {
            "backgroundcolor": "#E5ECF6",
            "gridcolor": "white",
            "gridwidth": 2,
            "linecolor": "white",
            "showbackground": true,
            "ticks": "",
            "zerolinecolor": "white"
           },
           "zaxis": {
            "backgroundcolor": "#E5ECF6",
            "gridcolor": "white",
            "gridwidth": 2,
            "linecolor": "white",
            "showbackground": true,
            "ticks": "",
            "zerolinecolor": "white"
           }
          },
          "shapedefaults": {
           "line": {
            "color": "#2a3f5f"
           }
          },
          "ternary": {
           "aaxis": {
            "gridcolor": "white",
            "linecolor": "white",
            "ticks": ""
           },
           "baxis": {
            "gridcolor": "white",
            "linecolor": "white",
            "ticks": ""
           },
           "bgcolor": "#E5ECF6",
           "caxis": {
            "gridcolor": "white",
            "linecolor": "white",
            "ticks": ""
           }
          },
          "title": {
           "x": 0.05
          },
          "xaxis": {
           "automargin": true,
           "gridcolor": "white",
           "linecolor": "white",
           "ticks": "",
           "title": {
            "standoff": 15
           },
           "zerolinecolor": "white",
           "zerolinewidth": 2
          },
          "yaxis": {
           "automargin": true,
           "gridcolor": "white",
           "linecolor": "white",
           "ticks": "",
           "title": {
            "standoff": 15
           },
           "zerolinecolor": "white",
           "zerolinewidth": 2
          }
         }
        }
       }
      }
     },
     "metadata": {},
     "output_type": "display_data"
    }
   ],
   "source": [
    "fig.show()"
   ]
  },
  {
   "cell_type": "code",
   "execution_count": null,
   "metadata": {},
   "outputs": [],
   "source": []
  }
 ],
 "metadata": {
  "kernelspec": {
   "display_name": "Python 3",
   "language": "python",
   "name": "python3"
  },
  "language_info": {
   "codemirror_mode": {
    "name": "ipython",
    "version": 3
   },
   "file_extension": ".py",
   "mimetype": "text/x-python",
   "name": "python",
   "nbconvert_exporter": "python",
   "pygments_lexer": "ipython3",
   "version": "3.8.10"
  }
 },
 "nbformat": 4,
 "nbformat_minor": 2
}
